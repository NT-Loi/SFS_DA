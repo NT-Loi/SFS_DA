{
 "cells": [
  {
   "cell_type": "code",
   "execution_count": 1,
   "metadata": {},
   "outputs": [],
   "source": [
    "import generate\n",
    "import SFS_DA\n",
    "\n",
    "import numpy as np"
   ]
  },
  {
   "cell_type": "code",
   "execution_count": 2,
   "metadata": {},
   "outputs": [],
   "source": [
    "def runElasticNet_DA(true_beta):\n",
    "    # Our proposed method\n",
    "\n",
    "    ns = 20\n",
    "    nt = 10\n",
    "\n",
    "    p = len(true_beta)\n",
    "\n",
    "    true_beta_s = np.full((p, 1), 2)\n",
    "    true_beta_t = np.array(true_beta).reshape(p, 1)\n",
    "    \n",
    "    Xs, Xt, Ys, Yt, Sigma_s, Sigma_t = generate.gen_data(ns, nt, p, true_beta_s, true_beta_t)\n",
    "\n",
    "    Lambda = 10\n",
    "    Gamma = 1\n",
    "    list_sel_p_value = SFS_DA.SFS_DA_ElasticNet(Xs, Ys, Xt, Yt, Lambda, Gamma, Sigma_s, Sigma_t, zmin=-20, zmax=20)\n",
    "\n",
    "    for i in range(len(list_sel_p_value)):\n",
    "        print(f'Feature: {list_sel_p_value[i][1]}\\t\\tp-value: {list_sel_p_value[i][0]}\\t\\tTrue beta: {true_beta[list_sel_p_value[i][1]]}')"
   ]
  },
  {
   "cell_type": "code",
   "execution_count": 22,
   "metadata": {},
   "outputs": [
    {
     "name": "stdout",
     "output_type": "stream",
     "text": [
      "Feature: 0\t\tp-value: 0.0014206751514833638\t\tTrue beta: 2\n",
      "Feature: 1\t\tp-value: 0.24206543828219645\t\tTrue beta: 0\n",
      "Feature: 2\t\tp-value: 0.03804784286544205\t\tTrue beta: 1\n",
      "Feature: 4\t\tp-value: 0.007334729483384983\t\tTrue beta: 0.5\n"
     ]
    }
   ],
   "source": [
    "if __name__ == '__main__':\n",
    "    true_beta = [2, 0, 1, 0, 0.5]\n",
    "    runElasticNet_DA(true_beta)"
   ]
  }
 ],
 "metadata": {
  "kernelspec": {
   "display_name": "Python 3",
   "language": "python",
   "name": "python3"
  },
  "language_info": {
   "codemirror_mode": {
    "name": "ipython",
    "version": 3
   },
   "file_extension": ".py",
   "mimetype": "text/x-python",
   "name": "python",
   "nbconvert_exporter": "python",
   "pygments_lexer": "ipython3",
   "version": "3.12.3"
  }
 },
 "nbformat": 4,
 "nbformat_minor": 2
}
