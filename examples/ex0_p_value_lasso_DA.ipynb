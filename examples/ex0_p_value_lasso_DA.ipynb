{
 "cells": [
  {
   "cell_type": "code",
   "execution_count": 4,
   "metadata": {},
   "outputs": [],
   "source": [
    "import sfs_da\n",
    "import numpy as np"
   ]
  },
  {
   "cell_type": "code",
   "execution_count": 5,
   "metadata": {},
   "outputs": [],
   "source": [
    "def runLasso_DA(true_beta):\n",
    "    # Our proposed method\n",
    "\n",
    "    ns = 20\n",
    "    nt = 10\n",
    "\n",
    "    p = len(true_beta)\n",
    "\n",
    "    true_beta_s = np.full((p, 1), 2)\n",
    "    true_beta_t = np.array(true_beta).reshape(p, 1)\n",
    "    \n",
    "    Xs, Xt, Ys, Yt, Sigma_s, Sigma_t = sfs_da.gen_data(ns, nt, p, true_beta_s, true_beta_t)\n",
    "\n",
    "    Lambda = 10\n",
    "\n",
    "    list_sel_p_value = sfs_da.SFS_DA_Lasso(Xs, Ys, Xt, Yt, Lambda, Sigma_s, Sigma_t, zmin=-20, zmax=20)\n",
    "\n",
    "    for i in range(len(list_sel_p_value)):\n",
    "        print(f'Feature: {list_sel_p_value[i][1]}\\t\\tp-value: {list_sel_p_value[i][0]}\\t\\tTrue beta: {true_beta[list_sel_p_value[i][1]]}')"
   ]
  },
  {
   "cell_type": "code",
   "execution_count": 6,
   "metadata": {},
   "outputs": [
    {
     "name": "stdout",
     "output_type": "stream",
     "text": [
      "Feature: 0\t\tp-value: 0.0006684469551652139\t\tTrue beta: 2\n",
      "Feature: 1\t\tp-value: 0.5876171994797694\t\tTrue beta: 0\n",
      "Feature: 3\t\tp-value: 0.28222826079797164\t\tTrue beta: 0\n"
     ]
    }
   ],
   "source": [
    "if __name__ == '__main__':\n",
    "    true_beta = [2, 0, 1, 0, 0.5]\n",
    "    runLasso_DA(true_beta)"
   ]
  }
 ],
 "metadata": {
  "kernelspec": {
   "display_name": "base",
   "language": "python",
   "name": "python3"
  },
  "language_info": {
   "codemirror_mode": {
    "name": "ipython",
    "version": 3
   },
   "file_extension": ".py",
   "mimetype": "text/x-python",
   "name": "python",
   "nbconvert_exporter": "python",
   "pygments_lexer": "ipython3",
   "version": "3.12.7"
  }
 },
 "nbformat": 4,
 "nbformat_minor": 2
}
